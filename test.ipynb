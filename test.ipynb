{
 "cells": [
  {
   "cell_type": "code",
   "execution_count": 1,
   "metadata": {},
   "outputs": [],
   "source": [
    "%load_ext autoreload\n",
    "%autoreload 2\n",
    "\n",
    "from cmipper import functions_creche, utils, config, parallelised_download_and_process, main\n",
    "import xarray as xa"
   ]
  },
  {
   "cell_type": "code",
   "execution_count": 2,
   "metadata": {},
   "outputs": [
    {
     "data": {
      "text/plain": [
       "{'EC-Earth3P-HR': {'resolution': 0.25,\n",
       "  'experiment_ids': ['hist-1950', 'highres-future'],\n",
       "  'member_ids': ['r1i1p2f1', 'r3i1p2f1'],\n",
       "  'data_nodes': ['esgf.ceda.ac.uk', 'esgf-data1.llnl.gov'],\n",
       "  'frequency': 'mon',\n",
       "  'variable_dict': {'mlotst': {'include': True,\n",
       "    'table_id': 'Omon',\n",
       "    'plevels': [None]},\n",
       "   'tos': {'include': True, 'table_id': 'Omon', 'plevels': [None]}}}}"
      ]
     },
     "execution_count": 2,
     "metadata": {},
     "output_type": "execute_result"
    }
   ],
   "source": [
    "download_config_dict = utils.read_yaml(config.download_config)\n",
    "model_info_dict = utils.read_yaml(config.model_info)\n",
    "limited_model_dict = functions_creche.limit_model_info_dict(model_info_dict, download_config_dict)\n",
    "limited_model_dict"
   ]
  },
  {
   "cell_type": "code",
   "execution_count": 6,
   "metadata": {},
   "outputs": [],
   "source": [
    "main.main()"
   ]
  }
 ],
 "metadata": {
  "kernelspec": {
   "display_name": "general",
   "language": "python",
   "name": "python3"
  },
  "language_info": {
   "codemirror_mode": {
    "name": "ipython",
    "version": 3
   },
   "file_extension": ".py",
   "mimetype": "text/x-python",
   "name": "python",
   "nbconvert_exporter": "python",
   "pygments_lexer": "ipython3",
   "version": "3.12.3"
  }
 },
 "nbformat": 4,
 "nbformat_minor": 2
}
